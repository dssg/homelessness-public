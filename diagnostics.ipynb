{
 "metadata": {
  "name": "",
  "signature": "sha256:9e0312a396c5c7041ebbb8f723bfb25f7d98c1f77559e39dcec3b9bf9d8167d6"
 },
 "nbformat": 3,
 "nbformat_minor": 0,
 "worksheets": [
  {
   "cells": [
    {
     "cell_type": "code",
     "collapsed": false,
     "input": [
      "import clean, diagnostics"
     ],
     "language": "python",
     "metadata": {},
     "outputs": [],
     "prompt_number": 1
    },
    {
     "cell_type": "code",
     "collapsed": false,
     "input": [
      "# you can run these after running `make`\n",
      "m = clean.load('master')\n",
      "s = clean.load('services')"
     ],
     "language": "python",
     "metadata": {},
     "outputs": [],
     "prompt_number": 2
    },
    {
     "cell_type": "code",
     "collapsed": false,
     "input": [
      "diagnostics.unique_summary(m, 'EntryID')"
     ],
     "language": "python",
     "metadata": {},
     "outputs": [
      {
       "output_type": "stream",
       "stream": "stdout",
       "text": [
        "Total rows: 50504\n",
        "Unique rows: 50504\n",
        "Unaccounted-for rows: 0\n"
       ]
      }
     ],
     "prompt_number": 3
    },
    {
     "cell_type": "code",
     "collapsed": false,
     "input": [
      "m['ProgramTypeAggregate'].value_counts()"
     ],
     "language": "python",
     "metadata": {},
     "outputs": [
      {
       "metadata": {},
       "output_type": "pyout",
       "prompt_number": 4,
       "text": [
        "Transitional housing (HUD)                            17771\n",
        "Services Only program (HUD)                           10513\n",
        "Emergency Shelter (HUD)                                6163\n",
        "Other (HUD)                                            4255\n",
        "Homeless Outreach (HUD)                                3860\n",
        "Permanent supportive housing (HUD)                     3092\n",
        "Supportive Services for Veteran Families               1495\n",
        "Rapid Re-Housing (HUD)                                 1239\n",
        "Street Outreach                                         775\n",
        "Prevention (HUD)                                        728\n",
        "Safe Haven (HUD)                                         23\n",
        "Homelessness Prevention and Rapid Re-Housing (HUD)       10\n",
        "dtype: int64"
       ]
      }
     ],
     "prompt_number": 4
    },
    {
     "cell_type": "code",
     "collapsed": false,
     "input": [
      "diagnostics.null_summary(s)"
     ],
     "language": "python",
     "metadata": {},
     "outputs": [
      {
       "output_type": "stream",
       "stream": "stdout",
       "text": [
        "ServiceID\n",
        "**NaNs:** 0 / 0%"
       ]
      },
      {
       "output_type": "stream",
       "stream": "stdout",
       "text": [
        "\n",
        "ClientID\n",
        "**NaNs:** 0 / 0%\n",
        "ServiceDescription\n",
        "**NaNs:** 0 / 0%"
       ]
      },
      {
       "output_type": "stream",
       "stream": "stdout",
       "text": [
        "\n",
        "ServiceCode\n",
        "**NaNs:** 0 / 0%"
       ]
      },
      {
       "output_type": "stream",
       "stream": "stdout",
       "text": [
        "\n",
        "ProviderSpecificCode\n",
        "**NaNs:** 1129113 / 98%"
       ]
      },
      {
       "output_type": "stream",
       "stream": "stdout",
       "text": [
        "\n",
        "ServiceProvider\n",
        "**NaNs:** 0 / 0%"
       ]
      },
      {
       "output_type": "stream",
       "stream": "stdout",
       "text": [
        "\n",
        "ServiceStartDate\n",
        "**NaNs:** 55 / 0%\n",
        "ServiceEndDate\n",
        "**NaNs:** 390822 / 33%\n",
        "FinancialAssistanceType\n",
        "**NaNs:** 1090366 / 94%"
       ]
      },
      {
       "output_type": "stream",
       "stream": "stdout",
       "text": [
        "\n",
        "NeedStatus\n",
        "**NaNs:** 0 / 0%"
       ]
      },
      {
       "output_type": "stream",
       "stream": "stdout",
       "text": [
        "\n",
        "TotalCost\n",
        "**NaNs:** 1132530 / 98%\n",
        "DateCreated\n",
        "**NaNs:** 0 / 0%\n",
        "DateUpdated\n",
        "**NaNs:** 0 / 0%\n",
        "LengthOfService\n",
        "**NaNs:** 390822 / 33%\n",
        "ServiceTypeL1\n",
        "**NaNs:** 0 / 0%"
       ]
      },
      {
       "output_type": "stream",
       "stream": "stdout",
       "text": [
        "\n",
        "ServiceTypeL2\n",
        "**NaNs:** 156141 / 13%"
       ]
      },
      {
       "output_type": "stream",
       "stream": "stdout",
       "text": [
        "\n"
       ]
      }
     ],
     "prompt_number": 5
    },
    {
     "cell_type": "code",
     "collapsed": false,
     "input": [
      "diagnostics.generate_sankey(m, 'ProgramTypeAggregate', 'CaseOutcome')"
     ],
     "language": "python",
     "metadata": {},
     "outputs": [
      {
       "output_type": "stream",
       "stream": "stdout",
       "text": [
        "Supportive Services for Veteran Families [13] Institutional\n",
        "Emergency Shelter (HUD) [414] Temporary\n",
        "Other (HUD) [190] Temporary\n",
        "Services Only program (HUD) [2907] Permanent\n",
        "Other (HUD) [199] Institutional\n",
        "Permanent supportive housing (HUD) [2629] Permanent\n",
        "Rapid Re-Housing (HUD) [7] Institutional\n",
        "Permanent supportive housing (HUD) [19] Temporary\n",
        "Street Outreach [13] Temporary\n",
        "Homeless Outreach (HUD) [264] Permanent\n",
        "Other (HUD) [211] Permanent\n",
        "Emergency Shelter (HUD) [231] Institutional\n",
        "Emergency Shelter (HUD) [689] Permanent\n",
        "Transitional housing (HUD) [2919] Temporary\n",
        "Prevention (HUD) [559] Permanent\n",
        "Homeless Outreach (HUD) [234] Institutional\n",
        "Supportive Services for Veteran Families [138] Temporary\n",
        "Permanent supportive housing (HUD) [7] Institutional\n",
        "Homelessness Prevention and Rapid Re-Housing (HUD) [6] Temporary\n",
        "Safe Haven (HUD) [1] Temporary\n",
        "Rapid Re-Housing (HUD) [372] Permanent\n",
        "Services Only program (HUD) [78] Institutional\n",
        "Homeless Outreach (HUD) [745] Temporary\n",
        "Transitional housing (HUD) [4940] Permanent\n",
        "Supportive Services for Veteran Families [617] Permanent\n",
        "Safe Haven (HUD) [1] Institutional\n",
        "Street Outreach [9] Institutional\n",
        "Rapid Re-Housing (HUD) [316] Temporary\n",
        "Street Outreach [62] Permanent\n",
        "Safe Haven (HUD) [6] Permanent\n",
        "Services Only program (HUD) [1210] Temporary\n",
        "Transitional housing (HUD) [508] Institutional\n"
       ]
      }
     ],
     "prompt_number": 6
    }
   ],
   "metadata": {}
  }
 ]
}